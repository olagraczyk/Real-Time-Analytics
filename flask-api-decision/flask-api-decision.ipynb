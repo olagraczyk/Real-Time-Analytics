{
 "cells": [
  {
   "cell_type": "markdown",
   "id": "b7c2acc3-e78f-4a6c-8447-db245a8da285",
   "metadata": {},
   "source": [
    "# **Tworzenie API we Flasku – Wprowadzenie**\n",
    "\n",
    "W tym ćwiczeniu nauczysz się, jak stworzyć proste API w Flasku, uruchomić je, wysyłać do niego zapytania oraz wykorzystać model decyzyjny w oparciu o podstawową regułę logiczną.\n",
    "\n",
    "## **1️⃣ Tworzenie podstawowego API**\n",
    "Najpierw utworzymy podstawową aplikację Flask.\n",
    "\n",
    "### **Zapisanie kodu API do pliku**\n",
    "W Jupyter Notebooku użyj magicznej komendy `%%file`, aby zapisać kod podstawowej aplikacji flask do pliku `app.py`: Kod znajdziesz na [cw1](https://sebkaz-teaching.github.io/RTA_2025/cw1.html)\n",
    "Jako tekst do wyświetlenie strony głównej użyj `Witaj w moim API!`."
   ]
  },
  {
   "cell_type": "code",
   "execution_count": 1,
   "id": "14c37263-583c-4c57-9454-7d1d93269999",
   "metadata": {},
   "outputs": [
    {
     "name": "stdout",
     "output_type": "stream",
     "text": [
      "Overwriting app.py\n"
     ]
    }
   ],
   "source": [
    "%%file app.py\n",
    "from flask import Flask, jsonify\n",
    "\n",
    "app = Flask(__name__)\n",
    "\n",
    "@app.route('/')\n",
    "def home():\n",
    "    return jsonify({\"message\": \"Witaj w moim API!\"})\n",
    "\n",
    "if __name__ == '__main__':\n",
    "    app.run()"
   ]
  },
  {
   "cell_type": "markdown",
   "id": "e2af6c95-3ee1-41c3-8781-50e1b80f2f17",
   "metadata": {},
   "source": [
    "Teraz uruchom API w terminalu, wpisując:\n",
    "```sh\n",
    "python app.py\n",
    "```\n",
    "Flask uruchomi serwer lokalnie pod adresem `http://127.0.0.1:5000/`."
   ]
  },
  {
   "cell_type": "markdown",
   "id": "b6dbfd19-a621-45bc-aadf-5cd9a71e6eaf",
   "metadata": {},
   "source": [
    "### **Sprawdzenie działania API**\n",
    "W Jupyter Notebooku wykonaj zapytanie GET do strony głównej. Na podstawie pola `status_code` napisz wyrażenie warunkowe które dla status_code 200 wyświetli zawartość odpowiedzi (z pola `content`)."
   ]
  },
  {
   "cell_type": "code",
   "execution_count": 3,
   "id": "f292293f-29e8-488e-b681-91eef946a0c6",
   "metadata": {},
   "outputs": [
    {
     "name": "stdout",
     "output_type": "stream",
     "text": [
      "Witaj w moim API!\n"
     ]
    }
   ],
   "source": [
    "import requests\n",
    "response = requests.get(\"http://127.0.0.1:5000/\")\n",
    "\n",
    "if response.status_code == 200:\n",
    "    print(response.json()[\"message\"])"
   ]
  },
  {
   "cell_type": "markdown",
   "id": "90f91405-edaf-458c-96b3-1e03c5b6c56b",
   "metadata": {},
   "source": [
    "Jeśli wszystko działa poprawnie, zobaczysz komunikat `Witaj w moim API!`.\n",
    "---\n",
    "\n",
    "## **2️⃣ Dodanie nowej podstrony**\n",
    "Dodajmy nową podstronę `mojastrona`, która zwróci komunikat `To jest moja strona!`."
   ]
  },
  {
   "cell_type": "code",
   "execution_count": 4,
   "id": "901da667-f30f-4520-88e2-981c3cd07845",
   "metadata": {},
   "outputs": [
    {
     "name": "stdout",
     "output_type": "stream",
     "text": [
      "Overwriting app.py\n"
     ]
    }
   ],
   "source": [
    "%%file app.py\n",
    "from flask import Flask, jsonify\n",
    "\n",
    "app = Flask(__name__)\n",
    "\n",
    "@app.route('/')\n",
    "def home():\n",
    "    return jsonify({\"message\": \"Witaj w moim API!\"})\n",
    "\n",
    "@app.route('/mojastrona')\n",
    "def mojastrona():\n",
    "    return jsonify({\"message\": \"To jest moja podstrona!\"})\n",
    "\n",
    "if __name__ == '__main__':\n",
    "    app.run()"
   ]
  },
  {
   "cell_type": "markdown",
   "id": "e7bb7b21-a725-4de8-b154-2f1484bc97f5",
   "metadata": {},
   "source": [
    "Ponownie uruchom API i wykonaj zapytanie do strony `\"http://127.0.0.1:5000/mojastrona\"`:"
   ]
  },
  {
   "cell_type": "code",
   "execution_count": null,
   "id": "598e2ea6-4ac6-4f4c-a708-f47c7574a2d8",
   "metadata": {},
   "outputs": [],
   "source": [
    "#info: musisz ponownie uruchomić api czyli python app.py"
   ]
  },
  {
   "cell_type": "code",
   "execution_count": 24,
   "id": "c3ceade1-8619-4684-ac7c-a1b91bd0e871",
   "metadata": {},
   "outputs": [
    {
     "name": "stdout",
     "output_type": "stream",
     "text": [
      "To jest moja podstrona!\n"
     ]
    }
   ],
   "source": [
    "response = requests.get(\"http://127.0.0.1:5000/mojastrona\")\n",
    "\n",
    "if response.status_code == 200:\n",
    "    print(response.json()[\"message\"])"
   ]
  },
  {
   "cell_type": "markdown",
   "id": "a13f3e1e-1689-4e19-9984-54e6e8602b67",
   "metadata": {},
   "source": [
    "Powinieneś zobaczyć: `To jest moja strona!`\n",
    "\n",
    "---\n",
    "\n",
    "## **3️⃣ Automatyczne uruchamianie serwera z Jupyter Notebook**\n",
    "Zamknij wcześniej uruchomiony serwer (`Ctrl+C` w terminalu) i uruchom go ponownie bezpośrednio z Jupyter Notebook, korzystając z `subprocess.Popen`:"
   ]
  },
  {
   "cell_type": "code",
   "execution_count": 6,
   "id": "b5aef41b-f747-4949-a676-a8b49de88c7f",
   "metadata": {},
   "outputs": [],
   "source": [
    "import subprocess\n",
    "server = subprocess.Popen([\"python\", \"app.py\"])"
   ]
  },
  {
   "cell_type": "code",
   "execution_count": 7,
   "id": "57836090-de51-422a-9346-4fdff8be1019",
   "metadata": {},
   "outputs": [],
   "source": [
    "!pip install pytest requests -q"
   ]
  },
  {
   "cell_type": "code",
   "execution_count": 8,
   "id": "4865fc23-6d0f-4476-80b8-30863520db6b",
   "metadata": {},
   "outputs": [
    {
     "name": "stdout",
     "output_type": "stream",
     "text": [
      "Overwriting test_app.py\n"
     ]
    }
   ],
   "source": [
    "%%file test_app.py\n",
    "import pytest\n",
    "import requests\n",
    "\n",
    "def test_podstr():\n",
    "    response = requests.get(\"http://127.0.0.1:5000/\")\n",
    "    assert response.status_code == 200\n",
    "    assert response.json()[\"message\"]"
   ]
  },
  {
   "cell_type": "code",
   "execution_count": 9,
   "id": "b8c5ee4e-681f-4297-838e-b56aa22de3c7",
   "metadata": {},
   "outputs": [
    {
     "name": "stdout",
     "output_type": "stream",
     "text": [
      "\u001b[1m============================= test session starts ==============================\u001b[0m\n",
      "platform linux -- Python 3.11.6, pytest-8.3.5, pluggy-1.5.0\n",
      "rootdir: /home/jovyan/notebooks/ogr/laboratorium1_2\n",
      "plugins: anyio-4.0.0\n",
      "collected 1 item                                                               \u001b[0m\n",
      "\n",
      "test_app.py \u001b[32m.\u001b[0m\u001b[32m                                                            [100%]\u001b[0m\n",
      "\n",
      "\u001b[32m============================== \u001b[32m\u001b[1m1 passed\u001b[0m\u001b[32m in 0.34s\u001b[0m\u001b[32m ===============================\u001b[0m\n"
     ]
    }
   ],
   "source": [
    "!pytest test_app.py"
   ]
  },
  {
   "cell_type": "markdown",
   "id": "6507101d-4f43-483a-a43d-2c07a3a9d23a",
   "metadata": {},
   "source": [
    "Po testach zamknij serwer wykorzystując metodę `kill`:\n"
   ]
  },
  {
   "cell_type": "code",
   "execution_count": 10,
   "id": "74fdcc71-fbcb-4602-804b-92458fab18df",
   "metadata": {},
   "outputs": [],
   "source": [
    "server.kill()"
   ]
  },
  {
   "cell_type": "markdown",
   "id": "6a02adf4-8ac0-4e3c-b1ee-0a9e1cc8933f",
   "metadata": {},
   "source": [
    "---\n",
    "\n",
    "## **4️⃣ Obsługa parametrów w adresie URL**\n",
    "Dodajemy nową podstronę `/hello`, która będzie przyjmować parametr `name`.\n",
    "\n",
    "Edytuj `app.py`, dodając odpowiedni  kod\n"
   ]
  },
  {
   "cell_type": "code",
   "execution_count": 27,
   "id": "9e42700e-e83a-4a2b-b4e8-164827a6994f",
   "metadata": {},
   "outputs": [
    {
     "name": "stdout",
     "output_type": "stream",
     "text": [
      "Overwriting app.py\n"
     ]
    }
   ],
   "source": [
    "%%file app.py\n",
    "from flask import Flask, jsonify, request\n",
    "\n",
    "app = Flask(__name__)\n",
    "\n",
    "@app.route('/')\n",
    "def home():\n",
    "    return jsonify({\"message\": \"Witaj w moim API!\"})\n",
    "\n",
    "@app.route('/mojastrona')\n",
    "def mojastrona():\n",
    "    return jsonify({\"message\": \"To jest moja podstrona!\"})\n",
    "\n",
    "@app.route('/hello')\n",
    "def hellopage():\n",
    "    name = request.args.get('name')\n",
    "    if name:\n",
    "        return jsonify({\"message\": f\"Hello {name}!\"})\n",
    "    else:\n",
    "        return jsonify({\"message\": \"Hello!\"})\n",
    "        \n",
    "if __name__ == '__main__':\n",
    "    app.run()"
   ]
  },
  {
   "cell_type": "markdown",
   "id": "bb1f2e04-4bed-4a70-8131-b2f25f343962",
   "metadata": {},
   "source": [
    "Uruchom serwer i sprawdź działanie API:\n",
    "```python\n",
    "res1 = requests.get(\"http://127.0.0.1:5000/hello\")\n",
    "print(res1.content)  # Powinno zwrócić \"Hello!\"\n",
    "\n",
    "res2 = requests.get(\"http://127.0.0.1:5000/hello?name=Sebastian\")\n",
    "print(res2.content)  # Powinno zwrócić \"Hello Sebastian!\"\n",
    "```\n",
    "\n",
    "---"
   ]
  },
  {
   "cell_type": "code",
   "execution_count": 31,
   "id": "85436f3e-c309-4cbe-92bf-6f01334d0e0a",
   "metadata": {},
   "outputs": [],
   "source": [
    "server = subprocess.Popen([\"python\", \"app.py\"])"
   ]
  },
  {
   "cell_type": "code",
   "execution_count": 32,
   "id": "7d06ea74-db48-4a16-b0af-6fead01388c2",
   "metadata": {
    "scrolled": true
   },
   "outputs": [
    {
     "name": "stdout",
     "output_type": "stream",
     "text": [
      "b'{\"message\":\"Hello!\"}\\n'\n"
     ]
    }
   ],
   "source": [
    "res1 = requests.get(\"http://127.0.0.1:5000/hello\")\n",
    "print(res1.content)  # Powinno zwrócić \"Hello!\""
   ]
  },
  {
   "cell_type": "code",
   "execution_count": 33,
   "id": "efb8c0a1-cff5-45a0-99cc-20af31098a97",
   "metadata": {},
   "outputs": [
    {
     "name": "stdout",
     "output_type": "stream",
     "text": [
      "b'{\"message\":\"Hello Sebastian!\"}\\n'\n"
     ]
    }
   ],
   "source": [
    "res2 = requests.get(\"http://127.0.0.1:5000/hello?name=Sebastian\")\n",
    "print(res2.content)  # Powinno zwrócić \"Hello Sebastian!\""
   ]
  },
  {
   "cell_type": "code",
   "execution_count": 35,
   "id": "aa346e0a-f465-4428-9c1c-a4a328e82579",
   "metadata": {},
   "outputs": [],
   "source": [
    "server.kill()"
   ]
  },
  {
   "cell_type": "markdown",
   "id": "fc1ae653-8609-49f7-a992-3ff437f96700",
   "metadata": {},
   "source": [
    "## **5️⃣ Tworzenie API z prostym modelem ML**\n",
    "Stworzymy nową podstronę `/api/v1.0/predict`, która przyjmuje dwie liczby i zwraca wynik reguły decyzyjnej:\n",
    "- Jeśli suma dwóch liczb jest większa niż 5.8, zwraca `1`.\n",
    "- W przeciwnym razie zwraca `0`.\n"
   ]
  },
  {
   "cell_type": "code",
   "execution_count": 36,
   "id": "a72cb0a5-720d-41df-87f7-b29f08476e8c",
   "metadata": {},
   "outputs": [
    {
     "name": "stdout",
     "output_type": "stream",
     "text": [
      "Overwriting app.py\n"
     ]
    }
   ],
   "source": [
    "%%file app.py\n",
    "from flask import Flask, jsonify, request\n",
    "\n",
    "app = Flask(__name__)\n",
    "\n",
    "@app.route('/')\n",
    "def home():\n",
    "    return jsonify({\"message\": \"Witaj w moim API!\"})\n",
    "\n",
    "@app.route('/mojastrona')\n",
    "def mojastrona():\n",
    "    return jsonify({\"message\": \"To jest moja podstrona!\"})\n",
    "\n",
    "@app.route('/hello')\n",
    "def hellopage():\n",
    "    name = request.args.get('name')\n",
    "    if name:\n",
    "        return jsonify({\"message\": f\"Hello {name}!\"})\n",
    "    else:\n",
    "        return jsonify({\"message\": \"Hello!\"})\n",
    "\n",
    "@app.route('/api/v1.0/predict')\n",
    "def predict():\n",
    "    num1 = request.args.get('num1', type=float)\n",
    "    num2 = request.args.get('num2', type=float)\n",
    "    if (num1+num2) > 5.8:\n",
    "        prediction = 1\n",
    "    else:\n",
    "        prediction = 0\n",
    "        \n",
    "    return jsonify({\n",
    "        \"prediction\": prediction,\n",
    "        \"features\": {\n",
    "            \"num1\": num1,\n",
    "            \"num2\": num2\n",
    "        }\n",
    "    })\n",
    "        \n",
    "if __name__ == '__main__':\n",
    "    app.run()"
   ]
  },
  {
   "cell_type": "code",
   "execution_count": 39,
   "id": "05ba6963-027f-45c2-bf16-05506cb6a4aa",
   "metadata": {},
   "outputs": [],
   "source": [
    "server = subprocess.Popen([\"python\", \"app.py\"])"
   ]
  },
  {
   "cell_type": "code",
   "execution_count": 40,
   "id": "e1a114c1-609b-46a7-9ea3-fb8231cc74d9",
   "metadata": {},
   "outputs": [
    {
     "name": "stdout",
     "output_type": "stream",
     "text": [
      "{'features': {'num1': 1.0, 'num2': 4.0}, 'prediction': 0}\n"
     ]
    }
   ],
   "source": [
    "res = requests.get(\"http://127.0.0.1:5000/api/v1.0/predict?num1=1&num2=4\")\n",
    "print(res.json())  # Powinno zwrócić {\"prediction\": 1, \"features\": {\"num1\": 3.0, \"num2\": 4.0}}"
   ]
  },
  {
   "cell_type": "code",
   "execution_count": 41,
   "id": "e90b2354-6d44-43e8-9143-41bf8fdaefe8",
   "metadata": {},
   "outputs": [],
   "source": [
    "server.kill()"
   ]
  },
  {
   "cell_type": "markdown",
   "id": "4ef4b5a6-387e-4d2e-b4e3-a716e5c885f5",
   "metadata": {},
   "source": [
    "Sprawdź działanie API:\n",
    "```python\n",
    "res = requests.get(\"http://127.0.0.1:5000/api/v1.0/predict?num1=3&num2=4\")\n",
    "print(res.json())  # Powinno zwrócić {\"prediction\": 1, \"features\": {\"num1\": 3.0, \"num2\": 4.0}}\n",
    "```\n",
    "\n",
    "---\n",
    "\n",
    "## **Podsumowanie**\n",
    "Po wykonaniu tego ćwiczenia studenci będą umieli:\n",
    "✅ Tworzyć podstawowe API w Flasku.  \n",
    "✅ Dodawać podstrony i obsługiwać parametry URL.  \n",
    "✅ Wysyłać zapytania GET i analizować odpowiedzi.  \n",
    "✅ Automatycznie uruchamiać serwer z Jupyter Notebook.  \n",
    "✅ Implementować prosty model decyzyjny w API.  \n",
    "\n",
    "Gotowi na kolejne wyzwania? 🚀"
   ]
  },
  {
   "cell_type": "code",
   "execution_count": 42,
   "id": "9e1b9d6e-5755-4b11-998a-e4206cad6db5",
   "metadata": {},
   "outputs": [
    {
     "name": "stdout",
     "output_type": "stream",
     "text": [
      "Note: you may need to restart the kernel to use updated packages.\n"
     ]
    }
   ],
   "source": [
    "!pip freeze > requirements.txt"
   ]
  },
  {
   "cell_type": "code",
   "execution_count": null,
   "id": "2a08af6f-f126-45bd-acc6-a4f243c54ed6",
   "metadata": {},
   "outputs": [],
   "source": []
  }
 ],
 "metadata": {
  "kernelspec": {
   "display_name": "Python 3 (ipykernel)",
   "language": "python",
   "name": "python3"
  },
  "language_info": {
   "codemirror_mode": {
    "name": "ipython",
    "version": 3
   },
   "file_extension": ".py",
   "mimetype": "text/x-python",
   "name": "python",
   "nbconvert_exporter": "python",
   "pygments_lexer": "ipython3",
   "version": "3.11.6"
  }
 },
 "nbformat": 4,
 "nbformat_minor": 5
}
